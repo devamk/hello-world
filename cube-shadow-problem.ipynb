{
 "cells": [
  {
   "cell_type": "code",
   "execution_count": 5,
   "metadata": {},
   "outputs": [],
   "source": [
    "import numpy as np"
   ]
  },
  {
   "cell_type": "code",
   "execution_count": 6,
   "metadata": {},
   "outputs": [],
   "source": [
    "class Point:\n",
    "    def __init__(self, x, y):\n",
    "        self.x = x\n",
    "        self.y = y\n",
    " \n",
    "def Left_index(points):\n",
    "     \n",
    "    '''\n",
    "    Finding the left most point\n",
    "    '''\n",
    "    minn = 0\n",
    "    for i in range(1,len(points)):\n",
    "        if points[i].x < points[minn].x:\n",
    "            minn = i\n",
    "        elif points[i].x == points[minn].x:\n",
    "            if points[i].y > points[minn].y:\n",
    "                minn = i\n",
    "    return minn\n",
    " \n",
    "def orientation(p, q, r):\n",
    "    '''\n",
    "    To find orientation of ordered triplet (p, q, r).\n",
    "    The function returns following values\n",
    "    0 --> p, q and r are collinear\n",
    "    1 --> Clockwise\n",
    "    2 --> Counterclockwise\n",
    "    '''\n",
    "    val = (q.y - p.y) * (r.x - q.x) - \\\n",
    "          (q.x - p.x) * (r.y - q.y)\n",
    " \n",
    "    if val == 0:\n",
    "        return 0\n",
    "    elif val > 0:\n",
    "        return 1\n",
    "    else:\n",
    "        return 2\n",
    " \n",
    "def convexHull(points, n):\n",
    "     \n",
    "    # There must be at least 3 points\n",
    "    if n < 3:\n",
    "        return\n",
    " \n",
    "    # Find the leftmost point\n",
    "    l = Left_index(points)\n",
    " \n",
    "    hull = []\n",
    "     \n",
    "    '''\n",
    "    Start from leftmost point, keep moving counterclockwise\n",
    "    until reach the start point again. This loop runs O(h)\n",
    "    times where h is number of points in result or output.\n",
    "    '''\n",
    "    p = l\n",
    "    q = 0\n",
    "    while(True):\n",
    "         \n",
    "        # Add current point to result\n",
    "        hull.append(p)\n",
    " \n",
    "        '''\n",
    "        Search for a point 'q' such that orientation(p, q,\n",
    "        x) is counterclockwise for all points 'x'. The idea\n",
    "        is to keep track of last visited most counterclock-\n",
    "        wise point in q. If any point 'i' is more counterclock-\n",
    "        wise than q, then update q.\n",
    "        '''\n",
    "        q = (p + 1) % n\n",
    " \n",
    "        for i in range(n):\n",
    "             \n",
    "            # If i is more counterclockwise\n",
    "            # than current q, then update q\n",
    "            if(orientation(points[p],\n",
    "                           points[i], points[q]) == 2):\n",
    "                q = i\n",
    " \n",
    "        '''\n",
    "        Now q is the most counterclockwise with respect to p\n",
    "        Set p as q for next iteration, so that q is added to\n",
    "        result 'hull'\n",
    "        '''\n",
    "        p = q\n",
    " \n",
    "        # While we don't come to first point\n",
    "        if(p == l):\n",
    "            break\n",
    " \n",
    "    # Print Result\n",
    "    out = []\n",
    "    for each in hull:\n",
    "        out.append((points[each].x, points[each].y))\n",
    "    return out"
   ]
  },
  {
   "cell_type": "code",
   "execution_count": 7,
   "metadata": {},
   "outputs": [],
   "source": [
    "def area(p):\n",
    "    return 0.5 * abs(sum(x0*y1 - x1*y0\n",
    "                         for ((x0, y0), (x1, y1)) in segments(p)))\n",
    "\n",
    "def segments(p):\n",
    "    return zip(p, p[1:] + [p[0]])"
   ]
  },
  {
   "cell_type": "code",
   "execution_count": 41,
   "metadata": {},
   "outputs": [],
   "source": [
    "n_try_list = [10, 100, 1000, 10000, 100000]\n",
    "area_calc = []\n",
    "for num_runs in n_try_list:\n",
    "    area_i = []\n",
    "    for run_i in range(num_runs):\n",
    "        theta = np.random.uniform(0, 2*(np.pi))\n",
    "        phi = np.random.uniform(0, 2*(np.pi))\n",
    "\n",
    "        theta2 = np.random.uniform(0, 2*(np.pi))\n",
    "\n",
    "        \n",
    "        \n",
    "        r_i = 0.5\n",
    "\n",
    "        x_i = (np.sin(theta)*np.sin(phi))*r_i\n",
    "        y_i = (np.cos(theta)*np.sin(phi))*r_i\n",
    "        z_i = (np.cos(phi))*r_i\n",
    "\n",
    "        x_j = np.cos(theta2)\n",
    "        y_j = np.sin(theta2)\n",
    "\n",
    "        z_j = (-(x_i*(x_j)) - (y_i*(y_j)))/z_i\n",
    "\n",
    "        r_j = np.sqrt(x_j**2 + y_j**2 + z_j**2)\n",
    "        x_j = (x_j/r_j)*0.5\n",
    "        y_j = (y_j/r_j)*0.5\n",
    "        z_j = (z_j/r_j)*0.5\n",
    "\n",
    "        vec_i = np.array([x_i, y_i, z_i])\n",
    "        vec_j = np.array([x_j, y_j, z_j])\n",
    "\n",
    "        vec_k = np.cross(vec_i, vec_j)/(.5)\n",
    "\n",
    "\n",
    "        ext_points = []\n",
    "        for i in [vec_i, -vec_i]:\n",
    "            for j in [vec_j, -vec_j]:\n",
    "                for k in [vec_k, -vec_k]:\n",
    "                    vertex = (i + j + k) + np.array([0, 0, 5])\n",
    "                    ext_points.append(np.array([vertex[0], vertex[1]]))\n",
    "\n",
    "    #     ext_points = [(i[0], i[1]) for i in ext_points]\n",
    "\n",
    "        # Driver Code\n",
    "        points = []\n",
    "        for i in ext_points:\n",
    "            points.append(Point(i[0], i[1]))\n",
    "\n",
    "        point_list = convexHull(points, len(points))\n",
    "\n",
    "        area_i.append(area(point_list))\n",
    "    area_calc.append(np.array(area_i).mean())"
   ]
  },
  {
   "cell_type": "code",
   "execution_count": 40,
   "metadata": {
    "scrolled": true
   },
   "outputs": [
    {
     "data": {
      "text/plain": [
       "[1.4185081013773835]"
      ]
     },
     "execution_count": 40,
     "metadata": {},
     "output_type": "execute_result"
    }
   ],
   "source": [
    "area_calc"
   ]
  },
  {
   "cell_type": "code",
   "execution_count": 12,
   "metadata": {},
   "outputs": [
    {
     "data": {
      "text/plain": [
       "0.8472153909101562"
      ]
     },
     "execution_count": 12,
     "metadata": {},
     "output_type": "execute_result"
    }
   ],
   "source": [
    "np.array(area_i).mean()"
   ]
  },
  {
   "cell_type": "code",
   "execution_count": 14,
   "metadata": {},
   "outputs": [
    {
     "data": {
      "text/plain": [
       "0.8526257932362441"
      ]
     },
     "execution_count": 14,
     "metadata": {},
     "output_type": "execute_result"
    }
   ],
   "source": [
    "np.array(area_i).mean()"
   ]
  },
  {
   "cell_type": "code",
   "execution_count": 25,
   "metadata": {},
   "outputs": [
    {
     "data": {
      "text/plain": [
       "array([5.000000e-01, 3.061617e-17, 3.061617e-17])"
      ]
     },
     "execution_count": 25,
     "metadata": {},
     "output_type": "execute_result"
    }
   ],
   "source": [
    "vec_i"
   ]
  },
  {
   "cell_type": "code",
   "execution_count": 23,
   "metadata": {},
   "outputs": [
    {
     "data": {
      "text/plain": [
       "array([0.   , 0.125, 0.125])"
      ]
     },
     "execution_count": 23,
     "metadata": {},
     "output_type": "execute_result"
    }
   ],
   "source": [
    "(vec_j)**2"
   ]
  },
  {
   "cell_type": "code",
   "execution_count": 29,
   "metadata": {},
   "outputs": [
    {
     "data": {
      "text/plain": [
       "0.49999999999999994"
      ]
     },
     "execution_count": 29,
     "metadata": {},
     "output_type": "execute_result"
    }
   ],
   "source": [
    "np.sqrt(np.sum(vec_k**2))/.5"
   ]
  },
  {
   "cell_type": "code",
   "execution_count": 34,
   "metadata": {},
   "outputs": [
    {
     "name": "stdout",
     "output_type": "stream",
     "text": [
      "The canvas size must be smaller than equal to 10 for clean output\n",
      "Canvas/Page Size, it's a square--  8\n",
      "Please input your x y coordinates of points either clockwise or anti clock wise\n",
      "The TOP LEFT of your output represents x=0 y=0 coordinate and the BOTTOM RIGHT x=pagesize y=pagesize \n",
      "Number of points in the figure--  5\n",
      "Point 1  coordinates:\n",
      "x coordinate  0\n",
      "y coordinate  0\n",
      "Point 2  coordinates:\n",
      "x coordinate  0\n",
      "y coordinate  4\n",
      "Point 3  coordinates:\n",
      "x coordinate  4\n",
      "y coordinate  4\n",
      "Point 4  coordinates:\n",
      "x coordinate  4\n",
      "y coordinate  0\n",
      "Point 5  coordinates:\n",
      "x coordinate  2\n",
      "y coordinate  2\n",
      "#                                               #                                                           \n",
      "# #                                           # #                                                           \n",
      "#   #                                       #   #                                                           \n",
      "#     #                                   #     #                                                           \n",
      "#       #                               #       #                                                           \n",
      "#         #                           #         #                                                           \n",
      "#           #                       #           #                                                           \n",
      "#             #                   #             #                                                           \n",
      "#               #               #               #                                                           \n",
      "#                 #           #                 #                                                           \n",
      "#                   #       #                   #                                                           \n",
      "#                     #   #                     #                                                           \n",
      "#                       #                       #                                                           \n",
      "#                                               #                                                           \n",
      "#                                               #                                                           \n",
      "#                                               #                                                           \n",
      "#                                               #                                                           \n",
      "#                                               #                                                           \n",
      "#                                               #                                                           \n",
      "#                                               #                                                           \n",
      "#                                               #                                                           \n",
      "#                                               #                                                           \n",
      "#                                               #                                                           \n",
      "#                                               #                                                           \n",
      "# # # # # # # # # # # # # # # # # # # # # # # # #                                                           \n",
      "                                                                                                            \n",
      "                                                                                                            \n",
      "                                                                                                            \n",
      "                                                                                                            \n",
      "                                                                                                            \n",
      "                                                                                                            \n",
      "                                                                                                            \n",
      "                                                                                                            \n",
      "                                                                                                            \n",
      "                                                                                                            \n",
      "                                                                                                            \n",
      "                                                                                                            \n",
      "                                                                                                            \n",
      "                                                                                                            \n",
      "                                                                                                            \n",
      "                                                                                                            \n",
      "                                                                                                            \n",
      "                                                                                                            \n",
      "                                                                                                            \n",
      "                                                                                                            \n",
      "                                                                                                            \n",
      "                                                                                                            \n",
      "                                                                                                            \n",
      "                                                                                                            \n",
      "                                                                                                            \n",
      "                                                                                                            \n",
      "                                                                                                            \n",
      "                                                                                                            \n",
      "                                                                                                            \n"
     ]
    },
    {
     "ename": "KeyboardInterrupt",
     "evalue": "Interrupted by user",
     "output_type": "error",
     "traceback": [
      "\u001b[0;31m---------------------------------------------------------------------------\u001b[0m",
      "\u001b[0;31mKeyboardInterrupt\u001b[0m                         Traceback (most recent call last)",
      "\u001b[0;32m<ipython-input-34-c7837194f68b>\u001b[0m in \u001b[0;36m<module>\u001b[0;34m\u001b[0m\n\u001b[1;32m     51\u001b[0m                 \u001b[0mprint\u001b[0m\u001b[0;34m(\u001b[0m\u001b[0mX\u001b[0m\u001b[0;34m,\u001b[0m\u001b[0mend\u001b[0m\u001b[0;34m=\u001b[0m\u001b[0;34m''\u001b[0m\u001b[0;34m)\u001b[0m\u001b[0;34m\u001b[0m\u001b[0;34m\u001b[0m\u001b[0m\n\u001b[1;32m     52\u001b[0m             \u001b[0mprint\u001b[0m\u001b[0;34m(\u001b[0m\u001b[0;34m)\u001b[0m\u001b[0;34m\u001b[0m\u001b[0;34m\u001b[0m\u001b[0m\n\u001b[0;32m---> 53\u001b[0;31m     \u001b[0mext\u001b[0m\u001b[0;34m=\u001b[0m\u001b[0mint\u001b[0m\u001b[0;34m(\u001b[0m\u001b[0minput\u001b[0m\u001b[0;34m(\u001b[0m\u001b[0;34m\"Input 1 for exit---\"\u001b[0m\u001b[0;34m)\u001b[0m\u001b[0;34m)\u001b[0m\u001b[0;34m\u001b[0m\u001b[0;34m\u001b[0m\u001b[0m\n\u001b[0m\u001b[1;32m     54\u001b[0m \u001b[0mos\u001b[0m\u001b[0;34m.\u001b[0m\u001b[0msystem\u001b[0m\u001b[0;34m(\u001b[0m\u001b[0;34m'cls'\u001b[0m\u001b[0;34m)\u001b[0m\u001b[0;34m\u001b[0m\u001b[0;34m\u001b[0m\u001b[0m\n",
      "\u001b[0;32m/opt/anaconda3/envs/env_1/lib/python3.8/site-packages/ipykernel/kernelbase.py\u001b[0m in \u001b[0;36mraw_input\u001b[0;34m(self, prompt)\u001b[0m\n\u001b[1;32m    858\u001b[0m                 \u001b[0;34m\"raw_input was called, but this frontend does not support input requests.\"\u001b[0m\u001b[0;34m\u001b[0m\u001b[0;34m\u001b[0m\u001b[0m\n\u001b[1;32m    859\u001b[0m             )\n\u001b[0;32m--> 860\u001b[0;31m         return self._input_request(str(prompt),\n\u001b[0m\u001b[1;32m    861\u001b[0m             \u001b[0mself\u001b[0m\u001b[0;34m.\u001b[0m\u001b[0m_parent_ident\u001b[0m\u001b[0;34m,\u001b[0m\u001b[0;34m\u001b[0m\u001b[0;34m\u001b[0m\u001b[0m\n\u001b[1;32m    862\u001b[0m             \u001b[0mself\u001b[0m\u001b[0;34m.\u001b[0m\u001b[0m_parent_header\u001b[0m\u001b[0;34m,\u001b[0m\u001b[0;34m\u001b[0m\u001b[0;34m\u001b[0m\u001b[0m\n",
      "\u001b[0;32m/opt/anaconda3/envs/env_1/lib/python3.8/site-packages/ipykernel/kernelbase.py\u001b[0m in \u001b[0;36m_input_request\u001b[0;34m(self, prompt, ident, parent, password)\u001b[0m\n\u001b[1;32m    902\u001b[0m             \u001b[0;32mexcept\u001b[0m \u001b[0mKeyboardInterrupt\u001b[0m\u001b[0;34m:\u001b[0m\u001b[0;34m\u001b[0m\u001b[0;34m\u001b[0m\u001b[0m\n\u001b[1;32m    903\u001b[0m                 \u001b[0;31m# re-raise KeyboardInterrupt, to truncate traceback\u001b[0m\u001b[0;34m\u001b[0m\u001b[0;34m\u001b[0m\u001b[0;34m\u001b[0m\u001b[0m\n\u001b[0;32m--> 904\u001b[0;31m                 \u001b[0;32mraise\u001b[0m \u001b[0mKeyboardInterrupt\u001b[0m\u001b[0;34m(\u001b[0m\u001b[0;34m\"Interrupted by user\"\u001b[0m\u001b[0;34m)\u001b[0m \u001b[0;32mfrom\u001b[0m \u001b[0;32mNone\u001b[0m\u001b[0;34m\u001b[0m\u001b[0;34m\u001b[0m\u001b[0m\n\u001b[0m\u001b[1;32m    905\u001b[0m             \u001b[0;32mexcept\u001b[0m \u001b[0mException\u001b[0m \u001b[0;32mas\u001b[0m \u001b[0me\u001b[0m\u001b[0;34m:\u001b[0m\u001b[0;34m\u001b[0m\u001b[0;34m\u001b[0m\u001b[0m\n\u001b[1;32m    906\u001b[0m                 \u001b[0mself\u001b[0m\u001b[0;34m.\u001b[0m\u001b[0mlog\u001b[0m\u001b[0;34m.\u001b[0m\u001b[0mwarning\u001b[0m\u001b[0;34m(\u001b[0m\u001b[0;34m\"Invalid Message:\"\u001b[0m\u001b[0;34m,\u001b[0m \u001b[0mexc_info\u001b[0m\u001b[0;34m=\u001b[0m\u001b[0;32mTrue\u001b[0m\u001b[0;34m)\u001b[0m\u001b[0;34m\u001b[0m\u001b[0;34m\u001b[0m\u001b[0m\n",
      "\u001b[0;31mKeyboardInterrupt\u001b[0m: Interrupted by user"
     ]
    }
   ],
   "source": [
    "import os\n",
    "ext=0\n",
    "while ext!=1:\n",
    "    zoom=6\n",
    "    print(\"The canvas size must be smaller than equal to 10 for clean output\")\n",
    "    canvas_size=zoom*(int(input(\"Canvas/Page Size, it's a square--  \"))+1)\n",
    "    print(\"Please input your x y coordinates of points either clockwise or anti clock wise\")\n",
    "    print(\"The TOP LEFT of your output represents x=0 y=0 coordinate and the BOTTOM RIGHT x=pagesize y=pagesize \")\n",
    "    no_of_points=int(input(\"Number of points in the figure--  \"))\n",
    "    x_point=[]\n",
    "    y_point=[]\n",
    "    max_x_point=0\n",
    "    max_y_point=0\n",
    "    min_x_point=canvas_size\n",
    "    min_y_point=canvas_size\n",
    "    for k in range(0,no_of_points):\n",
    "        print(\"Point\",k+1,\" coordinates:\")\n",
    "        x_point.append(zoom*int(input(\"x coordinate  \")))\n",
    "        y_point.append(zoom*int(input(\"y coordinate  \")))#negative\n",
    "        max_x_point=max(max_x_point,x_point[k])\n",
    "        max_y_point=max(max_y_point,y_point[k])\n",
    "        min_x_point=min(min_x_point,x_point[k])\n",
    "        min_y_point=min(min_y_point,y_point[k])\n",
    "    #     print(str(x[k])+' '+str(y[k]))\n",
    "    # print(mxX,\"=max x \",mxY,\"=max y \",mnX,\"=min x \",mnY,\"=mod min y\")\n",
    "\n",
    "    canvas=[[\"  \"]*canvas_size for t in range(canvas_size)]\n",
    "    for Y in range(min_y_point,max_y_point+1):\n",
    "        # print(\"  Y =\",Y)\n",
    "        for X in range(min_x_point,max_x_point+1):\n",
    "            # print(\"  X =\",X)\n",
    "            for k in range(0,no_of_points):\n",
    "                # print(\"  K =\",k)\n",
    "                x2=x_point[(k+1)%(no_of_points)]\n",
    "                x1=x_point[k]\n",
    "                max_x1_x2=max(x1,x2)\n",
    "                min_x1_x2=min(x1,x2)\n",
    "                y2=y_point[(k+1)%(no_of_points)]\n",
    "                y1=y_point[k]\n",
    "                max_y1_y2=max(y1,y2)\n",
    "                min_y1_y2=min(y1,y2)\n",
    "                check1=(x2-x1)*(Y-y1)==(y2-y1)*(X-x1) #| abs((x1-x2)(-i-y1)-(y2-y1)(j-x1))<1\n",
    "                check2=min_y1_y2<=Y & Y<=max_y1_y2\n",
    "                check3=min_x1_x2<=X & X<=max_x1_x2\n",
    "                if check1 & check2 & check3:\n",
    "                    canvas[Y][X]=\"# \"\n",
    "                \n",
    "\n",
    "    for Y in canvas:\n",
    "            for X in Y:\n",
    "                print(X,end='')\n",
    "            print()\n",
    "    ext=int(input(\"Input 1 for exit---\"))\n",
    "os.system('cls')"
   ]
  },
  {
   "cell_type": "code",
   "execution_count": null,
   "metadata": {},
   "outputs": [],
   "source": [
    "8\n",
    "5\n",
    "0\n",
    "0\n",
    "0\n",
    "4\n",
    "4\n",
    "4\n",
    "4\n",
    "0\n",
    "2\n",
    "2"
   ]
  }
 ],
 "metadata": {
  "kernelspec": {
   "display_name": "Python 3",
   "language": "python",
   "name": "python3"
  },
  "language_info": {
   "codemirror_mode": {
    "name": "ipython",
    "version": 3
   },
   "file_extension": ".py",
   "mimetype": "text/x-python",
   "name": "python",
   "nbconvert_exporter": "python",
   "pygments_lexer": "ipython3",
   "version": "3.8.2"
  }
 },
 "nbformat": 4,
 "nbformat_minor": 4
}
